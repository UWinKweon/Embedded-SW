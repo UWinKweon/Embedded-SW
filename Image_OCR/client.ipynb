{
 "cells": [
  {
   "cell_type": "code",
   "execution_count": null,
   "id": "b3a05da6",
   "metadata": {},
   "outputs": [],
   "source": [
    "import socket\n",
    "import time\n",
    "from optparse import OptionParser\n",
    "import videocapture\n",
    " \n",
    "HOST = 'xxx.xxx.xxx.xxx' # The remote host\n",
    "PORT = xxxx # The same port as used by the server\n",
    " \n",
    "def tcp_send(host, port):\n",
    "    su = socket.socket(socket.AF_INET) # different point\n",
    "    su.connect((host, port))\n",
    "    #su.sendall('Hello World') # different point\n",
    "    su.sendall(videocapture.text)\n",
    "    \n",
    "    data = su.recv(1024)\n",
    "    print 'Received', repr(data)\n",
    "    su.close()\n",
    "if __name__ == \"__main__\":\n",
    "    tcp_send(HOST, PORT)\n"
   ]
  }
 ],
 "metadata": {
  "kernelspec": {
   "display_name": "Python 3 (ipykernel)",
   "language": "python",
   "name": "python3"
  },
  "language_info": {
   "codemirror_mode": {
    "name": "ipython",
    "version": 3
   },
   "file_extension": ".py",
   "mimetype": "text/x-python",
   "name": "python",
   "nbconvert_exporter": "python",
   "pygments_lexer": "ipython3",
   "version": "3.8.8"
  }
 },
 "nbformat": 4,
 "nbformat_minor": 5
}
