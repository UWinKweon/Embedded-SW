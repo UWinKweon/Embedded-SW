import socket
import time
from optparse import OptionParser
from scapy.all import *
import timeit
 
HOST = 'xxx.xxx.xxx.xxx' # Symbolic name meaning all available interfaces
PORT = xxxx # Arbitrary non-privileged port
 
def tcp_recv(host, port):
    su = socket.socket(socket.AF_INET)
    su.bind((host, port))
    su.listen(1)
 
    connect, address = su.accept()
    print 'Connected by', address
    while 1:
        data = connect.recv(1024)
        start_time = time.time()
        if not data: break
        connect.sendall(data)
        su.close()
    connect.close()
    end_time = time.time()
    check_time = end_time - start_time
    return check_time
 
if __name__ == "__main__":
    y = 0
    for x in range(0, 5):
        y = y + tcp_recv(HOST, PORT)
        print y
        print "It received %d" % (x)
    print 'average time: ' , y/3
