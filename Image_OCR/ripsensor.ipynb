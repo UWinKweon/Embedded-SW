{
 "cells": [
  {
   "cell_type": "code",
   "execution_count": null,
   "id": "20b57c63",
   "metadata": {},
   "outputs": [],
   "source": [
    "#!/usr/bin/env python\n",
    "#-*- coding: utf-8 -*-\n",
    " \n",
    "import RPi.GPIO as GPIO   \n",
    "import time  \n",
    " \n",
    "#GPIO 핀 17,27을 사용한다.\n",
    "GPIOIN = 1\n",
    "GPIOOUT = 28\n",
    " \n",
    "#핀 넘버링을 BCM 방식을 사용한다.\n",
    "GPIO.setmode(GPIO.BCM)   \n",
    "print \"HC-SR501 motion detection start\"\n",
    "#17번 핀을 입력용, 27번 핀을 출력용으로 설정한다.\n",
    "#출력용 핀은 LED 상태를 확인하기 위해 사용하는 핀으로 실제 동작과는 무관하다.\n",
    "GPIO.setup(GPIOIN, GPIO.IN)   \n",
    "GPIO.setup(GPIOOUT, GPIO.OUT)   \n",
    "try: \n",
    "    while True:  \n",
    "        #HC-SR501센서의 출력 값을 읽는다.\n",
    "        state =  GPIO.input(GPIOIN)\n",
    "        if(state == True):\n",
    "            print \"state: Motion detected\"\n",
    "            \n",
    "        else:\n",
    "            print \"state: No Motion\"\n",
    "        #HC-SR501센서의 출력 값을 LED로 보낸다.\n",
    "        GPIO.output(GPIOOUT, state)  \n",
    "        time.sleep(0.1)  \n",
    "except KeyboardInterrupt:   \n",
    "    GPIO.cleanup()       \n",
    "print \"HC-SR501 motion detection end\""
   ]
  }
 ],
 "metadata": {
  "kernelspec": {
   "display_name": "pythonocr",
   "language": "python",
   "name": "pythonocr"
  },
  "language_info": {
   "codemirror_mode": {
    "name": "ipython",
    "version": 3
   },
   "file_extension": ".py",
   "mimetype": "text/x-python",
   "name": "python",
   "nbconvert_exporter": "python",
   "pygments_lexer": "ipython3",
   "version": "3.10.4"
  }
 },
 "nbformat": 4,
 "nbformat_minor": 5
}
