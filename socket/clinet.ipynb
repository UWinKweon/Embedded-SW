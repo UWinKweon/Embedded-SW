import socket
import time
from optparse import OptionParser
import videocapture
 
HOST = 'xxx.xxx.xxx.xxx' # The remote host
PORT = xxxx # The same port as used by the server
 
def tcp_send(host, port):
    su = socket.socket(socket.AF_INET) # different point
    su.connect((host, port))
    #su.sendall('Hello World') # different point
    su.sendall(videocapture.text)
    
    data = su.recv(1024)
    print 'Received', repr(data)
    su.close()
if __name__ == "__main__":
    tcp_send(HOST, PORT)
