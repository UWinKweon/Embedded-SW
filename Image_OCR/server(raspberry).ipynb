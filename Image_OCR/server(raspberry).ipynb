{
 "cells": [
  {
   "cell_type": "code",
   "execution_count": null,
   "id": "abd2ff04",
   "metadata": {},
   "outputs": [],
   "source": [
    "import socket\n",
    "import time\n",
    "from optparse import OptionParser\n",
    "from scapy.all import *\n",
    "import timeit\n",
    " \n",
    "HOST = 'xxx.xxx.xxx.xxx' # Symbolic name meaning all available interfaces\n",
    "PORT = xxxx # Arbitrary non-privileged port\n",
    " \n",
    "def tcp_recv(host, port):\n",
    "    su = socket.socket(socket.AF_INET)\n",
    "    su.bind((host, port))\n",
    "    su.listen(1)\n",
    " \n",
    "    connect, address = su.accept()\n",
    "    print 'Connected by', address\n",
    "    while 1:\n",
    "        data = connect.recv(1024)\n",
    "        start_time = time.time()\n",
    "        if not data: break\n",
    "        connect.sendall(data)\n",
    "        su.close()\n",
    "    connect.close()\n",
    "    end_time = time.time()\n",
    "    check_time = end_time - start_time\n",
    "    return check_time\n",
    " \n",
    "if __name__ == \"__main__\":\n",
    "    y = 0\n",
    "    for x in range(0, 5):\n",
    "        y = y + tcp_recv(HOST, PORT)\n",
    "        print y\n",
    "        print \"It received %d\" % (x)\n",
    "    print 'average time: ' , y/3\n",
    "\n"
   ]
  }
 ],
 "metadata": {
  "kernelspec": {
   "display_name": "Python 3 (ipykernel)",
   "language": "python",
   "name": "python3"
  },
  "language_info": {
   "codemirror_mode": {
    "name": "ipython",
    "version": 3
   },
   "file_extension": ".py",
   "mimetype": "text/x-python",
   "name": "python",
   "nbconvert_exporter": "python",
   "pygments_lexer": "ipython3",
   "version": "3.8.8"
  }
 },
 "nbformat": 4,
 "nbformat_minor": 5
}
